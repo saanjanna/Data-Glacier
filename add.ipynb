{
 "cells": [
  {
   "cell_type": "code",
   "execution_count": null,
   "id": "b3ccd9dc",
   "metadata": {},
   "outputs": [],
   "source": [
    "def add_numbers(a, b):\n",
    "    a=5\n",
    "    b=6\n",
    "    return a + b\n",
    "\n",
    "name = input(\"xx \")\n",
    "sport = input(\"yy \")\n",
    "\n",
    "result = add_numbers(5, 10)\n",
    "print(\"The sum is:\", result)\n",
    "print(\"Your name is:\", name)\n",
    "print(\"Your favorite sport is:\", sport)"
   ]
  },
  {
   "cell_type": "code",
   "execution_count": null,
   "id": "21806e05",
   "metadata": {},
   "outputs": [],
   "source": []
  }
 ],
 "metadata": {
  "kernelspec": {
   "display_name": "Python 3",
   "language": "python",
   "name": "python3"
  },
  "language_info": {
   "codemirror_mode": {
    "name": "ipython",
    "version": 3
   },
   "file_extension": ".py",
   "mimetype": "text/x-python",
   "name": "python",
   "nbconvert_exporter": "python",
   "pygments_lexer": "ipython3",
   "version": "3.8.8"
  }
 },
 "nbformat": 4,
 "nbformat_minor": 5
}
